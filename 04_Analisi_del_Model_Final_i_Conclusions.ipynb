{
 "cells": [
  {
   "cell_type": "markdown",
   "id": "ac6a7edc-8572-42a4-a7d5-8424f0fc3d1c",
   "metadata": {},
   "source": [
    "# Explicació detallada a Google Slides i a GitHub"
   ]
  },
  {
   "cell_type": "markdown",
   "id": "fd4f0ffe-533a-4a1c-bb0d-2cfdd2b3c188",
   "metadata": {},
   "source": [
    "Objectiu: Analitzar en profunditat el model guanyador i traduir els resultats a un llenguatge de negoci.\n",
    "\n",
    "1. Avaluació Final sobre el Conjunt de Prova:\n",
    "\n",
    "Entrenar el model guanyador amb totes les dades d'entrenament i avaluar-lo una única vegada sobre el conjunt de prova (test set). Això dóna la mesura final i imparcial del seu rendiment.\n",
    "\n",
    "2. Interpretabilitat del Model:\n",
    "\n",
    "Importància de les Característiques: Mostrar un gràfic de les variables més influents. Com sospitàvem a l'EDA, amb Kbest, PAY_* (l'estat de pagament més recent) és, amb diferència, el predictor més potent.\n",
    "\n",
    "Anàlisi d'Errors: On falla el model? Mostra la matriu de confusió. Analitza alguns falsos positius i falsos negatius -- 616 Falsos Negatius\n",
    "\n",
    "3. Impacte de Negoci i Pròxims Passos:\n",
    "\n",
    "Amb un llindar de probabilitat de 0.47, podem identificar el 56% dels futurs impagats (Recall), amb una precisió del 52%. Això podria estalviar a l'empresa un estimat de 13.940.000 TWD mensuals.\n",
    "\n",
    "Es proposa millorar featuring i demanar mes dades (Ingresos) així com entrenar un model de Xarxes Neuronals."
   ]
  },
  {
   "cell_type": "code",
   "execution_count": null,
   "id": "d25bec82-12aa-4713-9852-e0f37555fa16",
   "metadata": {},
   "outputs": [],
   "source": []
  }
 ],
 "metadata": {
  "kernelspec": {
   "display_name": "Python [conda env:base] *",
   "language": "python",
   "name": "conda-base-py"
  },
  "language_info": {
   "codemirror_mode": {
    "name": "ipython",
    "version": 3
   },
   "file_extension": ".py",
   "mimetype": "text/x-python",
   "name": "python",
   "nbconvert_exporter": "python",
   "pygments_lexer": "ipython3",
   "version": "3.12.3"
  }
 },
 "nbformat": 4,
 "nbformat_minor": 5
}
