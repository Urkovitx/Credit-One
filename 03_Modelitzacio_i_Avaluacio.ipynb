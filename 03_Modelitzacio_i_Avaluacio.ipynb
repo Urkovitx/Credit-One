{
 "cells": [
  {
   "cell_type": "markdown",
   "id": "c9e04a26-a6d9-45c9-8d5b-72f2af802183",
   "metadata": {},
   "source": [
    "# Consultar Carpeta Models"
   ]
  },
  {
   "cell_type": "code",
   "execution_count": null,
   "id": "56811a08-2141-4a38-b73a-28e9ff6bd187",
   "metadata": {},
   "outputs": [],
   "source": []
  }
 ],
 "metadata": {
  "kernelspec": {
   "display_name": "Python [conda env:base] *",
   "language": "python",
   "name": "conda-base-py"
  },
  "language_info": {
   "codemirror_mode": {
    "name": "ipython",
    "version": 3
   },
   "file_extension": ".py",
   "mimetype": "text/x-python",
   "name": "python",
   "nbconvert_exporter": "python",
   "pygments_lexer": "ipython3",
   "version": "3.12.3"
  }
 },
 "nbformat": 4,
 "nbformat_minor": 5
}
