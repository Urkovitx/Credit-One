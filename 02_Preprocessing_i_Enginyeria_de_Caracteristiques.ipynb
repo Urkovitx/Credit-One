{
 "cells": [
  {
   "cell_type": "markdown",
   "id": "c346c3ec-fc1b-42aa-97cb-f6482891e08a",
   "metadata": {},
   "source": [
    "Objectiu: Preparar les dades per als models i crear noves variables amb poder predictiu.\n",
    "\n",
    "1. Gestió de Valors Nuls:\n",
    "\n",
    "No n'i ha.\n",
    "\n",
    "2. Codificació de Variables Categòriques:\n",
    "\n",
    "One-Hot Encoding amb etiquetes descriptives personalitzades per a millor enteniment.\n",
    "\n",
    "3. Enginyeria de Característiques (Feature Engineering):\n",
    "\n",
    "3. 🧪 Enginyeria de Característiques (Feature Engineering)\n",
    "Objectiu: Crear noves variables amb més poder predictiu, basades en els insights de l'EDA.\n",
    "Convertir BILL_AMT*, PAY_AMT* a BILL_AMT_AGRUPAT, PAY_AMT_AGRUPAT\n",
    "Convertir PAY_* en:\n",
    "Per un cantó,  variables que indiquin retard, o no retard, això es:\n",
    "Retard: \n",
    "Valor PAY_*>0 serà PAY_1_mesos_retard\n",
    "No retard:\n",
    "Valor PAY_*<=0 serà:\n",
    "Valor PAY_*=-1 es converteix a PAY_*_ontime\n",
    "Valor PAY_*=-2 es converteix a PAY_*_sensemov\n",
    "Valor PAY_*=0 es converteix a PAY_*_revolving\n",
    "\n",
    "4. Escalat de Dades:\n",
    "\n",
    "Aplicar Robust Scaler a les dades numèriques, explicant per a model de Regressió Logística.\n",
    "\n",
    "5. Desament de Dades Processades:\n",
    "\n",
    "Creació CSV i SQLite"
   ]
  },
  {
   "cell_type": "code",
   "execution_count": null,
   "id": "2e511bea-1d5b-4a22-8fb4-4d548bd5b21e",
   "metadata": {},
   "outputs": [],
   "source": []
  }
 ],
 "metadata": {
  "kernelspec": {
   "display_name": "Python [conda env:base] *",
   "language": "python",
   "name": "conda-base-py"
  },
  "language_info": {
   "codemirror_mode": {
    "name": "ipython",
    "version": 3
   },
   "file_extension": ".py",
   "mimetype": "text/x-python",
   "name": "python",
   "nbconvert_exporter": "python",
   "pygments_lexer": "ipython3",
   "version": "3.12.3"
  }
 },
 "nbformat": 4,
 "nbformat_minor": 5
}
