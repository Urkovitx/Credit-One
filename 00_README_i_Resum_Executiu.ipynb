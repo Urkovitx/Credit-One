{
 "cells": [
  {
   "cell_type": "markdown",
   "id": "771f1063-8c18-45c0-8cb8-697684d666d3",
   "metadata": {},
   "source": [
    "1. Definició del Problema:\n",
    "\n",
    "Objectiu de negoci: Reduir les pèrdues per impagament en un 15% identificant clients d'alt risc abans de concedir un crèdit\n",
    "\n",
    "Objectiu de Data Science: Construir un model de classificació binària que predigui la probabilitat d'impagament (default) en els propers 6 mesos.\n",
    "\n",
    "Mètrica d'èxit principal: Maximitzar l'AUC-ROC i aconseguir un Recall superior al 80% per a la classe 'default'.\n",
    "\n",
    "2. Fonts de Dades:\n",
    "\n",
    "Descripció breu de les dades utilitzades: Dades transaccionals i demogràfiques de clients de Credit One.\n",
    "\n",
    "3. Resum de Resultats Clau:\n",
    "\n",
    "El model final, un Random Forest, aconsegueix un AUC de 0.74 en el conjunt de proves. \n",
    "Les característiques més predictives són l'historial de pagaments (PAY_*) i el límit de crèdit (LIMIT_BAL).\n",
    "\n",
    "4. Estructura del Projecte:\n",
    "\n",
    "EDA\n",
    "BASELINE\n",
    "XGBOOST\n",
    "RANDOM FOREST"
   ]
  },
  {
   "cell_type": "code",
   "execution_count": null,
   "id": "5a541095-9559-4ecc-b755-f0039812b4ad",
   "metadata": {},
   "outputs": [],
   "source": []
  }
 ],
 "metadata": {
  "kernelspec": {
   "display_name": "Python [conda env:base] *",
   "language": "python",
   "name": "conda-base-py"
  },
  "language_info": {
   "codemirror_mode": {
    "name": "ipython",
    "version": 3
   },
   "file_extension": ".py",
   "mimetype": "text/x-python",
   "name": "python",
   "nbconvert_exporter": "python",
   "pygments_lexer": "ipython3",
   "version": "3.12.3"
  }
 },
 "nbformat": 4,
 "nbformat_minor": 5
}
